{
 "cells": [
  {
   "cell_type": "code",
   "execution_count": 2,
   "metadata": {},
   "outputs": [
    {
     "name": "stdout",
     "output_type": "stream",
     "text": [
      "['1mm', '8mm', '15mm', '22mm', '29mm'] ['-107mm', '-77mm', '-47mm', '-17mm', '13mm']\n"
     ]
    }
   ],
   "source": [
    "movefeed_values = [str(i) + 'mm' for i in range(1, 36, 7)]\n",
    "# movefeed_values = [\"1mm\", \"2mm\"]\n",
    "\n",
    "# my 范围 -107 - 37，步长为30\n",
    "my_values = [str(i) + 'mm' for i in range(-107, 38, 30)]\n",
    "\n",
    "print(movefeed_values, my_values)"
   ]
  },
  {
   "cell_type": "code",
   "execution_count": 7,
   "metadata": {},
   "outputs": [
    {
     "name": "stdout",
     "output_type": "stream",
     "text": [
      "['1mm', '4mm', '7mm', '10mm', '13mm', '16mm', '19mm', '22mm', '25mm', '28mm', '31mm', '34mm']\n",
      "['-73mm', '-58mm', '-43mm', '-28mm', '-13mm', '2mm', '17mm', '32mm', '47mm', '62mm']\n"
     ]
    }
   ],
   "source": [
    "movefeed_values = [str(i) + 'mm' for i in range(1, 36, 3)]\n",
    "# movefeed_values = [\"1mm\", \"2mm\"]\n",
    "\n",
    "# my 范围 -107 - 37，步长为30\n",
    "my_values = [str(i) + 'mm' for i in range(-73, 72, 15)]\n",
    "\n",
    "print(movefeed_values)\n",
    "print(my_values)"
   ]
  }
 ],
 "metadata": {
  "kernelspec": {
   "display_name": "nl_mani",
   "language": "python",
   "name": "python3"
  },
  "language_info": {
   "codemirror_mode": {
    "name": "ipython",
    "version": 3
   },
   "file_extension": ".py",
   "mimetype": "text/x-python",
   "name": "python",
   "nbconvert_exporter": "python",
   "pygments_lexer": "ipython3",
   "version": "3.10.12"
  }
 },
 "nbformat": 4,
 "nbformat_minor": 2
}
